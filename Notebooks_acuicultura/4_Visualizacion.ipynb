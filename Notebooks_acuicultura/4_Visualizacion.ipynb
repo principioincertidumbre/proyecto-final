{
 "cells": [
  {
   "cell_type": "code",
   "execution_count": null,
   "id": "7003d9a6-5323-4839-839d-d72c35f7d409",
   "metadata": {},
   "outputs": [],
   "source": []
  }
 ],
 "metadata": {
  "kernelspec": {
   "display_name": "proyecto_final (Python 3.12)",
   "language": "python",
   "name": "proyecto_final"
  },
  "language_info": {
   "codemirror_mode": {
    "name": "ipython",
    "version": 3
   },
   "file_extension": ".py",
   "mimetype": "text/x-python",
   "name": "python",
   "nbconvert_exporter": "python",
   "pygments_lexer": "ipython3",
   "version": "3.12.4"
  }
 },
 "nbformat": 4,
 "nbformat_minor": 5
}
