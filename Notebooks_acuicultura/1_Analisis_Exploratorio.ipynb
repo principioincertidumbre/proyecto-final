{
 "cells": [
  {
   "cell_type": "markdown",
   "id": "80ece83a-0423-46e2-bd9c-f23e3f16005e",
   "metadata": {},
   "source": [
    "En este proyecto final de la asignatura Python para Data Science se analizará un dataset sobre concesiones de acuicultura vigentes en Chile a junio 2024.\n",
    "\n",
    "La acuicultura es la cría, el cultivo y la recolección de organismos acuáticos en agua dulce y salada para el consumo humano y la conservación. El artículo 2 n°3 de la ley General de Pesca y Agricultura vigente define a la acuicultura como la actividad que tiene por objeto la producción de recursos hidrobiológicos organizada por el hombre.\n",
    "\n",
    "El artículo 2 n°25 de la ley General de Pesca y Agricultura vigente define a una concesión de acuicultura como el acto administrativo mediante el cual el Ministerio de Defensa Nacional otorga a una persona los derechos de uso y goce, por tiempo indefinido sobre determinados bienes nacionales, para que ésta realice en ellos actividades de acuicultura.\n"
   ]
  },
  {
   "cell_type": "code",
   "execution_count": 1,
   "id": "ced8d535-f31b-41f1-83e5-970051d7c041",
   "metadata": {},
   "outputs": [],
   "source": [
    "import numpy as np\n",
    "import pandas as pd"
   ]
  },
  {
   "cell_type": "code",
   "execution_count": 2,
   "id": "0361052d-98bf-4037-80e2-fcc3c18229ad",
   "metadata": {},
   "outputs": [],
   "source": [
    "df_acuicultura = pd.read_excel(\"https://www.subpesca.cl/portal/619/articles-92935_listado.xlsx\", decimal='.')"
   ]
  },
  {
   "cell_type": "code",
   "execution_count": 3,
   "id": "5b7d34e6-3cbf-48e4-8478-652fa8eaf9de",
   "metadata": {},
   "outputs": [
    {
     "data": {
      "text/plain": [
       "(3233, 19)"
      ]
     },
     "execution_count": 3,
     "metadata": {},
     "output_type": "execute_result"
    }
   ],
   "source": [
    "#Tamaño dataset concesiones acuicultura\n",
    "df_acuicultura.shape"
   ]
  },
  {
   "cell_type": "code",
   "execution_count": 4,
   "id": "7c6d364b-e2e5-48cc-8fd9-5a29d6be2cf1",
   "metadata": {},
   "outputs": [
    {
     "data": {
      "text/html": [
       "<div>\n",
       "<style scoped>\n",
       "    .dataframe tbody tr th:only-of-type {\n",
       "        vertical-align: middle;\n",
       "    }\n",
       "\n",
       "    .dataframe tbody tr th {\n",
       "        vertical-align: top;\n",
       "    }\n",
       "\n",
       "    .dataframe thead th {\n",
       "        text-align: right;\n",
       "    }\n",
       "</style>\n",
       "<table border=\"1\" class=\"dataframe\">\n",
       "  <thead>\n",
       "    <tr style=\"text-align: right;\">\n",
       "      <th></th>\n",
       "      <th>codigoCentro</th>\n",
       "      <th>numPert</th>\n",
       "      <th>Comuna</th>\n",
       "      <th>Region</th>\n",
       "      <th>Titulares</th>\n",
       "      <th>NumeroResSSP</th>\n",
       "      <th>FechaResSSP</th>\n",
       "      <th>ResultadoResolucionSSP</th>\n",
       "      <th>NumeroResSSFFAA</th>\n",
       "      <th>FechaResSSFFAA</th>\n",
       "      <th>ResultadoResolucionSSFFAA</th>\n",
       "      <th>EspeciesPT</th>\n",
       "      <th>GrupoPT</th>\n",
       "      <th>GRUPO ESPECIE AGRUPADO</th>\n",
       "      <th>toponimio</th>\n",
       "      <th>tipoBarrio</th>\n",
       "      <th>barrio</th>\n",
       "      <th>TipoPorcion</th>\n",
       "      <th>superficieTotal</th>\n",
       "    </tr>\n",
       "  </thead>\n",
       "  <tbody>\n",
       "    <tr>\n",
       "      <th>0</th>\n",
       "      <td>90201</td>\n",
       "      <td>200091005</td>\n",
       "      <td>CARAHUE</td>\n",
       "      <td>REGIÓN DE LA ARAUCANÍA</td>\n",
       "      <td>5692719-0: AVILA GALDAMES, HECTOR FERNANDO</td>\n",
       "      <td>1122</td>\n",
       "      <td>2023-05-08</td>\n",
       "      <td>Aprueba</td>\n",
       "      <td>441</td>\n",
       "      <td>2024-03-26</td>\n",
       "      <td>Aprueba</td>\n",
       "      <td>CHOLGA, CHORITO, CHORO</td>\n",
       "      <td>MITILIDOS</td>\n",
       "      <td>MOLUSCOS</td>\n",
       "      <td>(1): RÍO IMPERIAL, AL OESTE DE SECTOR SAN PABLO</td>\n",
       "      <td></td>\n",
       "      <td></td>\n",
       "      <td>(1): AGUA Y FONDO</td>\n",
       "      <td>1.5</td>\n",
       "    </tr>\n",
       "    <tr>\n",
       "      <th>1</th>\n",
       "      <td>104477</td>\n",
       "      <td>219101021</td>\n",
       "      <td>MAULLIN</td>\n",
       "      <td>REGIÓN DE LOS LAGOS</td>\n",
       "      <td>18844230-7: VARGAS MANSILLA MARIA IGNACIA</td>\n",
       "      <td>2111</td>\n",
       "      <td>2022-10-18</td>\n",
       "      <td>Aprueba</td>\n",
       "      <td>39</td>\n",
       "      <td>2024-01-11</td>\n",
       "      <td>Aprueba</td>\n",
       "      <td>CAROLA, CHASCA, CHASCON O HUIRO NEGRO, CHICORE...</td>\n",
       "      <td>MACROALGAS</td>\n",
       "      <td>ALGAS</td>\n",
       "      <td>(1): RIO MAULLIN RIBERA NORTE, PARCELA R4</td>\n",
       "      <td></td>\n",
       "      <td></td>\n",
       "      <td>(1): AGUA Y FONDO</td>\n",
       "      <td>0.3</td>\n",
       "    </tr>\n",
       "    <tr>\n",
       "      <th>2</th>\n",
       "      <td>104476</td>\n",
       "      <td>207105039</td>\n",
       "      <td>ANCUD</td>\n",
       "      <td>REGIÓN DE LOS LAGOS</td>\n",
       "      <td>71780900-9: SINDICATO TRABAJADORES CHAULAR</td>\n",
       "      <td>645</td>\n",
       "      <td>2023-03-13</td>\n",
       "      <td>Aprueba</td>\n",
       "      <td>2723</td>\n",
       "      <td>2023-12-01</td>\n",
       "      <td>Aprueba</td>\n",
       "      <td>CAROLA, CHASCA, CHASCON O HUIRO NEGRO, CHICORE...</td>\n",
       "      <td>MACROALGAS</td>\n",
       "      <td>ALGAS</td>\n",
       "      <td>(1): ESTERO CHAULAR, AL OESTE DE PUNTA LARGA. ...</td>\n",
       "      <td></td>\n",
       "      <td></td>\n",
       "      <td>(1): PLAYA , (2): PLAYA , (3): AGUA Y FONDO</td>\n",
       "      <td>4</td>\n",
       "    </tr>\n",
       "    <tr>\n",
       "      <th>3</th>\n",
       "      <td>104475</td>\n",
       "      <td>206101181</td>\n",
       "      <td>MAULLIN</td>\n",
       "      <td>REGIÓN DE LOS LAGOS</td>\n",
       "      <td>10512152-0: CARDENAS BUSTAMANTE, ROBINSON EFIL...</td>\n",
       "      <td>896</td>\n",
       "      <td>2023-04-04</td>\n",
       "      <td>Aprueba</td>\n",
       "      <td>2726</td>\n",
       "      <td>2023-12-01</td>\n",
       "      <td>Aprueba</td>\n",
       "      <td>CAROLA, CHASCA, CHASCON O HUIRO NEGRO, CHICORE...</td>\n",
       "      <td>MACROALGAS</td>\n",
       "      <td>ALGAS</td>\n",
       "      <td>(1): RÍO QUENUIR, SECTOR QUENUIR</td>\n",
       "      <td></td>\n",
       "      <td></td>\n",
       "      <td>(1): AGUA Y FONDO</td>\n",
       "      <td>7.39</td>\n",
       "    </tr>\n",
       "    <tr>\n",
       "      <th>4</th>\n",
       "      <td>104473</td>\n",
       "      <td>209103041</td>\n",
       "      <td>QUEMCHI</td>\n",
       "      <td>REGIÓN DE LOS LAGOS</td>\n",
       "      <td>10121206-8: PEÑA IMILMAQUI, JUAN VICTOR, 11595...</td>\n",
       "      <td>1418</td>\n",
       "      <td>2023-06-23</td>\n",
       "      <td>Aprueba</td>\n",
       "      <td>2727</td>\n",
       "      <td>2023-12-01</td>\n",
       "      <td>Aprueba</td>\n",
       "      <td>CHOLGA, CHORITO, CHORO</td>\n",
       "      <td>MITILIDOS</td>\n",
       "      <td>MOLUSCOS</td>\n",
       "      <td>(1): ESTERO BUTATIQUE, AL ESTE DE ISLA CHEMLLI...</td>\n",
       "      <td></td>\n",
       "      <td></td>\n",
       "      <td>(1): AGUA Y FONDO</td>\n",
       "      <td>2.97</td>\n",
       "    </tr>\n",
       "  </tbody>\n",
       "</table>\n",
       "</div>"
      ],
      "text/plain": [
       "   codigoCentro    numPert                          Comuna  \\\n",
       "0         90201  200091005  CARAHUE                          \n",
       "1        104477  219101021  MAULLIN                          \n",
       "2        104476  207105039  ANCUD                            \n",
       "3        104475  206101181  MAULLIN                          \n",
       "4        104473  209103041  QUEMCHI                          \n",
       "\n",
       "                   Region                                          Titulares  \\\n",
       "0  REGIÓN DE LA ARAUCANÍA         5692719-0: AVILA GALDAMES, HECTOR FERNANDO   \n",
       "1     REGIÓN DE LOS LAGOS          18844230-7: VARGAS MANSILLA MARIA IGNACIA   \n",
       "2     REGIÓN DE LOS LAGOS         71780900-9: SINDICATO TRABAJADORES CHAULAR   \n",
       "3     REGIÓN DE LOS LAGOS  10512152-0: CARDENAS BUSTAMANTE, ROBINSON EFIL...   \n",
       "4     REGIÓN DE LOS LAGOS  10121206-8: PEÑA IMILMAQUI, JUAN VICTOR, 11595...   \n",
       "\n",
       "   NumeroResSSP FechaResSSP ResultadoResolucionSSP  NumeroResSSFFAA  \\\n",
       "0          1122  2023-05-08                Aprueba              441   \n",
       "1          2111  2022-10-18                Aprueba               39   \n",
       "2           645  2023-03-13                Aprueba             2723   \n",
       "3           896  2023-04-04                Aprueba             2726   \n",
       "4          1418  2023-06-23                Aprueba             2727   \n",
       "\n",
       "  FechaResSSFFAA ResultadoResolucionSSFFAA  \\\n",
       "0     2024-03-26                   Aprueba   \n",
       "1     2024-01-11                   Aprueba   \n",
       "2     2023-12-01                   Aprueba   \n",
       "3     2023-12-01                   Aprueba   \n",
       "4     2023-12-01                   Aprueba   \n",
       "\n",
       "                                          EspeciesPT     GrupoPT  \\\n",
       "0                             CHOLGA, CHORITO, CHORO   MITILIDOS   \n",
       "1  CAROLA, CHASCA, CHASCON O HUIRO NEGRO, CHICORE...  MACROALGAS   \n",
       "2  CAROLA, CHASCA, CHASCON O HUIRO NEGRO, CHICORE...  MACROALGAS   \n",
       "3  CAROLA, CHASCA, CHASCON O HUIRO NEGRO, CHICORE...  MACROALGAS   \n",
       "4                             CHOLGA, CHORITO, CHORO   MITILIDOS   \n",
       "\n",
       "  GRUPO ESPECIE AGRUPADO                                          toponimio  \\\n",
       "0               MOLUSCOS    (1): RÍO IMPERIAL, AL OESTE DE SECTOR SAN PABLO   \n",
       "1                  ALGAS          (1): RIO MAULLIN RIBERA NORTE, PARCELA R4   \n",
       "2                  ALGAS  (1): ESTERO CHAULAR, AL OESTE DE PUNTA LARGA. ...   \n",
       "3                  ALGAS                   (1): RÍO QUENUIR, SECTOR QUENUIR   \n",
       "4               MOLUSCOS  (1): ESTERO BUTATIQUE, AL ESTE DE ISLA CHEMLLI...   \n",
       "\n",
       "  tipoBarrio barrio                                  TipoPorcion  \\\n",
       "0                                              (1): AGUA Y FONDO   \n",
       "1                                              (1): AGUA Y FONDO   \n",
       "2                    (1): PLAYA , (2): PLAYA , (3): AGUA Y FONDO   \n",
       "3                                              (1): AGUA Y FONDO   \n",
       "4                                              (1): AGUA Y FONDO   \n",
       "\n",
       "  superficieTotal  \n",
       "0             1.5  \n",
       "1             0.3  \n",
       "2               4  \n",
       "3            7.39  \n",
       "4            2.97  "
      ]
     },
     "execution_count": 4,
     "metadata": {},
     "output_type": "execute_result"
    }
   ],
   "source": [
    "#Muestra las cinco primeras filas del dataset\n",
    "df_acuicultura.head()"
   ]
  },
  {
   "cell_type": "code",
   "execution_count": 5,
   "id": "1731c132-9b3e-48ab-861b-1d187eaf0cb7",
   "metadata": {},
   "outputs": [
    {
     "name": "stdout",
     "output_type": "stream",
     "text": [
      "<class 'pandas.core.frame.DataFrame'>\n",
      "RangeIndex: 3233 entries, 0 to 3232\n",
      "Data columns (total 19 columns):\n",
      " #   Column                     Non-Null Count  Dtype         \n",
      "---  ------                     --------------  -----         \n",
      " 0   codigoCentro               3233 non-null   int64         \n",
      " 1   numPert                    3233 non-null   object        \n",
      " 2   Comuna                     3233 non-null   object        \n",
      " 3   Region                     3233 non-null   object        \n",
      " 4   Titulares                  3233 non-null   object        \n",
      " 5   NumeroResSSP               3233 non-null   int64         \n",
      " 6   FechaResSSP                3233 non-null   datetime64[ns]\n",
      " 7   ResultadoResolucionSSP     3233 non-null   object        \n",
      " 8   NumeroResSSFFAA            3233 non-null   int64         \n",
      " 9   FechaResSSFFAA             3233 non-null   datetime64[ns]\n",
      " 10  ResultadoResolucionSSFFAA  3233 non-null   object        \n",
      " 11  EspeciesPT                 3233 non-null   object        \n",
      " 12  GrupoPT                    3233 non-null   object        \n",
      " 13  GRUPO ESPECIE AGRUPADO     3233 non-null   object        \n",
      " 14  toponimio                  3233 non-null   object        \n",
      " 15  tipoBarrio                 3233 non-null   object        \n",
      " 16  barrio                     3233 non-null   object        \n",
      " 17  TipoPorcion                3233 non-null   object        \n",
      " 18  superficieTotal            3233 non-null   object        \n",
      "dtypes: datetime64[ns](2), int64(3), object(14)\n",
      "memory usage: 480.0+ KB\n"
     ]
    }
   ],
   "source": [
    "df_acuicultura.info()"
   ]
  },
  {
   "cell_type": "markdown",
   "id": "405c7b91-fffc-49ac-a796-cb4bb56645a1",
   "metadata": {},
   "source": [
    "El dataset de concesiones de acuicultura vigentes a junio 2024 contiene 3233 filas y 19 columnas. Las columnas son:\n",
    "\n",
    "**codigoCentro**, cuyo tipo de dato es integer y representa al código asignado a cada centro de cultivo de especies acuícolas de acuerdo al Registro Nacional de Acuicultura (RNA).\n",
    "\n",
    "**numPert**, cuyo tipo de dato es objeto (string) y representa al Número de Pertenencia original de un proyecto de concesión acuícola (código de la solicitud de inscripción de la concesión).\n",
    "\n",
    "**Comuna**, cuyo tipo de dato es objeto (string) y representa a la comuna en la cual está ubicado un centro de cultivo de especies acuícolas.\n",
    "\n",
    "**Region**, cuyo tipo de dato es objeto (string), y representa a la región en la cual se ubica un centro de cultivo acuícola.\n",
    "\n",
    "**Titulares**, cuyo tipo de dato es objeto (string), y representa al RUT y nombre de cada titular (persona natural, empresa o universidad) de una concesión de acuicultura.\n",
    "\n",
    "**NumeroResSSP**, cuyo tipo de dato es objeto (string), y representa al número de la resolución de la Subsecretaría de Pesca que autoriza o rechaza una concesión de acuicultura.\n",
    "\n",
    "**FechaResSSP**, cuyo tipo de dato es datetime (fecha), y representa a la fecha de una resolución de la Subsecretaría de Pesca que autoriza o rechaza una concesión de acuicultura.\n",
    "\n",
    "**ResultadoResolucionSSP**, cuyo tipo de dato es objeto (string), e indica si la Subsecretaría de Pesca autoriza o rechaza una concesión de acuicultura.\n",
    "\n",
    "**NumeroResSSFFAA**, cuyo tipo de dato es objeto (string), y representa al número de la resolución de la Subsecretaría para las Fuerzas Armadas que autoriza o rechaza una concesión de acuicultura.\n",
    "\n",
    "**FechaResSSFFAA**, cuyo tipo de dato es datetime (fecha), y representa a la fecha de una resolución de la Subsecretaría para las Fuerzas Armadas que autoriza o rechaza una concesión de acuicultura.\n",
    "\n",
    "**ResultadoResolucionSSFFAA**, cuyo tipo de dato es objeto (string), e indica si la Subsecretaría para las Fuerzas Armadas autoriza o rechaza una concesión de acuicultura.\n",
    "\n",
    "**EspeciesPT**, cuyo tipo de dato es objeto (string), y representa a o las especies mencionadas en el Proyecto Técnico requerido para obtener una concesión de acuicultura.\n",
    "\n",
    "**GrupoPT**, cuyo tipo de dato es objeto (string), y representa al grupo específico autorizado al que pertenecen las especies mencionadas en el Proyecto Técnico requerido para obtener una concesión de acuicultura (por ej. si se trata de un tipo específico de pez tales como los salmónidos, alga del tipo macroalga o molusco del grupo de los choritos).\n",
    "\n",
    "**GRUPO ESPECIE AGRUPADO**, cuyo tipo de dato es objeto (string), y representa al grupo genérico (peces, algas o moluscos) al que pertenecen las especies mencionadas en el Proyecto Técnico requerido para obtener una concesión de acuicultura.\n",
    "\n",
    "**toponimio**, cuyo tipo de dato es objeto (string), y representa al lugar geográfico específico (por ej. río, estero, isla, canal, bahía) en el cual se desarrolla una concesión de acuicultura.\n",
    "\n",
    "**tipoBarrio**,  cuyo tipo de dato es objeto (string), y representa al tipo de agrupación de concesión (por ej. de salmones o moluscos).\n",
    "\n",
    "**barrio**, cuyo tipo de dato es objeto (string), y consiste en la identificación del número de barrio o agrupación de concesiones de acuicultura (ACS).\n",
    "\n",
    "**TipoPorcion**,  cuyo tipo de dato es objeto (string), y representa al nombre del tipo de concesión (playa, terreno de playa, agua y fondo).\n",
    "\n",
    "**superficieTotal**,  cuyo tipo de dato es objeto (string), y representa a la superficie total en hectáreas de los polígonos (áreas de mar donde se ubica la concesión) de acuicultura soliciticados o propuesta de solicitud en concesión."
   ]
  },
  {
   "cell_type": "markdown",
   "id": "002bd692-86c7-473b-9311-78dcf7d18158",
   "metadata": {},
   "source": [
    "Debido a que en el dataframe se observa la presencia de celdas vacías, ellas serán rellenadas con el valor NaN para poder verificar de mejor forma si faltan datos en cada columna."
   ]
  },
  {
   "cell_type": "code",
   "execution_count": 6,
   "id": "87bdd6ed-5802-4531-a2be-10c46e35485d",
   "metadata": {},
   "outputs": [
    {
     "name": "stderr",
     "output_type": "stream",
     "text": [
      "/tmp/ipykernel_24717/4152794954.py:1: FutureWarning: Downcasting behavior in `replace` is deprecated and will be removed in a future version. To retain the old behavior, explicitly call `result.infer_objects(copy=False)`. To opt-in to the future behavior, set `pd.set_option('future.no_silent_downcasting', True)`\n",
      "  df_acuicultura = df_acuicultura.replace(r'^\\s+$', np.nan, regex=True)\n"
     ]
    }
   ],
   "source": [
    "df_acuicultura = df_acuicultura.replace(r'^\\s+$', np.nan, regex=True)"
   ]
  },
  {
   "cell_type": "code",
   "execution_count": 7,
   "id": "b6df896a-9d7f-4d49-a475-a376e89bec8b",
   "metadata": {},
   "outputs": [
    {
     "data": {
      "text/plain": [
       "codigoCentro                    0\n",
       "numPert                         0\n",
       "Comuna                          0\n",
       "Region                          0\n",
       "Titulares                       0\n",
       "NumeroResSSP                    0\n",
       "FechaResSSP                     0\n",
       "ResultadoResolucionSSP          0\n",
       "NumeroResSSFFAA                 0\n",
       "FechaResSSFFAA                  0\n",
       "ResultadoResolucionSSFFAA       0\n",
       "EspeciesPT                      0\n",
       "GrupoPT                         9\n",
       "GRUPO ESPECIE AGRUPADO          0\n",
       "toponimio                       3\n",
       "tipoBarrio                   1886\n",
       "barrio                       1886\n",
       "TipoPorcion                     5\n",
       "superficieTotal                 2\n",
       "dtype: int64"
      ]
     },
     "execution_count": 7,
     "metadata": {},
     "output_type": "execute_result"
    }
   ],
   "source": [
    "df_acuicultura.isna().sum()"
   ]
  },
  {
   "cell_type": "code",
   "execution_count": 30,
   "id": "f021c490-aa49-4566-aaf7-4a773824f564",
   "metadata": {},
   "outputs": [
    {
     "data": {
      "text/plain": [
       "np.int64(0)"
      ]
     },
     "execution_count": 30,
     "metadata": {},
     "output_type": "execute_result"
    }
   ],
   "source": [
    "df_acuicultura.duplicated().sum()"
   ]
  },
  {
   "cell_type": "markdown",
   "id": "57881a1a-d280-4315-a538-8a59373540b5",
   "metadata": {},
   "source": [
    "En el caso de la columna **GrupoPT** faltan 9 valores. También se observa que faltan 3 valores en la columna **toponimio**, 1886 valores faltantes en la columna **tipoBarrio**, 1886 valores en la columna **barrio**, 5 valores en la columna **TipoPorcion**, y 2 valores en la columna **superficieTotal**. \n",
    "\n",
    "No se detectaron filas duplicadas en este dataset."
   ]
  },
  {
   "cell_type": "code",
   "execution_count": 8,
   "id": "72a0ea99-6f3c-43f1-9a49-c0be39036e6c",
   "metadata": {},
   "outputs": [
    {
     "data": {
      "text/plain": [
       "codigoCentro\n",
       "100336    1\n",
       "90006     1\n",
       "100068    1\n",
       "101607    1\n",
       "30021     1\n",
       "         ..\n",
       "104472    1\n",
       "104473    1\n",
       "104475    1\n",
       "104476    1\n",
       "104477    1\n",
       "Name: count, Length: 3233, dtype: int64"
      ]
     },
     "execution_count": 8,
     "metadata": {},
     "output_type": "execute_result"
    }
   ],
   "source": [
    "df_acuicultura[\"codigoCentro\"].value_counts()"
   ]
  },
  {
   "cell_type": "markdown",
   "id": "a9622258-e204-4878-91a7-a29ab027dd15",
   "metadata": {},
   "source": [
    "En la columna **códigoCentro** no se observan códigos repetidos, lo cual concuerda con el hecho que esta columna representa a un tipo de identificación de cada centro de cultivo."
   ]
  },
  {
   "cell_type": "code",
   "execution_count": 9,
   "id": "c84d0f27-4937-4c91-8c69-f538c024a101",
   "metadata": {},
   "outputs": [
    {
     "data": {
      "text/plain": [
       "numPert\n",
       "900000005    1\n",
       "900000072    1\n",
       "900000053    1\n",
       "900000099    1\n",
       "900000082    1\n",
       "            ..\n",
       "209103091    1\n",
       "209103041    1\n",
       "206101181    1\n",
       "207105039    1\n",
       "219101021    1\n",
       "Name: count, Length: 3233, dtype: int64"
      ]
     },
     "execution_count": 9,
     "metadata": {},
     "output_type": "execute_result"
    }
   ],
   "source": [
    "df_acuicultura[\"numPert\"].value_counts()"
   ]
  },
  {
   "cell_type": "markdown",
   "id": "e3163bd9-36ac-4f9d-a14c-ebfffc07615b",
   "metadata": {},
   "source": [
    "En la columna **numPert** no se observan códigos repetidos, lo cual concuerda con el hecho que esta columna representa a un tipo de identificación de cada centro de cultivo."
   ]
  },
  {
   "cell_type": "code",
   "execution_count": 10,
   "id": "4bd78078-8d36-4cd7-8ea3-0d1a1f7b9188",
   "metadata": {},
   "outputs": [
    {
     "data": {
      "text/plain": [
       "Comuna\n",
       "CISNES                            373\n",
       "MAULLIN                           361\n",
       "AISEN                             306\n",
       "CALBUCO                           232\n",
       "QUELLON                           208\n",
       "PUERTO MONTT                      140\n",
       "ANCUD                             122\n",
       "QUINCHAO                          119\n",
       "CASTRO                            110\n",
       "HUALAIHUE                         107\n",
       "CHAITEN                            99\n",
       "QUEMCHI                            97\n",
       "DALCAHUE                           97\n",
       "COCHAMO                            96\n",
       "PUQUELDON                          84\n",
       "QUEILEN                            84\n",
       "CURACO DE VELEZ                    82\n",
       "CHONCHI                            75\n",
       "NATALES                            71\n",
       "CALDERA                            55\n",
       "RIO VERDE                          51\n",
       "CARAHUE                            44\n",
       "GUAITECAS                          43\n",
       "COQUIMBO                           40\n",
       "PUNTA ARENAS                       23\n",
       "PUERTO VARAS                       13\n",
       "CORRAL                             13\n",
       "PUERTO OCTAY                       10\n",
       "SAAVEDRA                           10\n",
       "TOLTEN                              9\n",
       "IQUIQUE                             8\n",
       "MARIQUINA                           7\n",
       "ARAUCO                              5\n",
       "CABO DE HORNOS                      4\n",
       "TOME                                3\n",
       "VALDIVIA                            3\n",
       "LLANQUIHUE                          3\n",
       "MEJILLONES                          3\n",
       "RIO BUENO                           3\n",
       "LA HIGUERA                          2\n",
       "CHAÑARAL                            2\n",
       "LA UNION                            2\n",
       "PELLUHUE                            1\n",
       "CUREPTO                             1\n",
       "LICANTEN                            1\n",
       "PURRANQUE                           1\n",
       "PICHILEMU                           1\n",
       "TOCOPILLA                           1\n",
       "HUALPEN                             1\n",
       "HUARA                               1\n",
       "LOS VILOS                           1\n",
       "COPIAPO                             1\n",
       "PUYEHUE                             1\n",
       "SAN JUAN DE LA COSTA                1\n",
       "FRUTILLAR                           1\n",
       "ANTOFAGASTA                         1\n",
       "Name: count, dtype: int64"
      ]
     },
     "execution_count": 10,
     "metadata": {},
     "output_type": "execute_result"
    }
   ],
   "source": [
    "df_acuicultura[\"Comuna\"].value_counts()"
   ]
  },
  {
   "cell_type": "code",
   "execution_count": 11,
   "id": "ae313dd0-3601-4d37-a886-7cbc54c813fb",
   "metadata": {},
   "outputs": [
    {
     "data": {
      "text/plain": [
       "Region\n",
       "REGIÓN DE LOS LAGOS                                    2143\n",
       "REGIÓN DE AYSÉN DEL GENERAL CARLOS IBÁÑEZ DEL CAMPO     722\n",
       "REGIÓN DE MAGALLANES Y DE LA ANTÁRTICA CHILENA          149\n",
       "REGIÓN DE LA ARAUCANÍA                                   63\n",
       "REGIÓN DE ATACAMA                                        58\n",
       "REGIÓN DE COQUIMBO                                       43\n",
       "REGIÓN DE LOS RÍOS                                       28\n",
       "REGIÓN DE TARAPACA                                        9\n",
       "REGIÓN DEL BIOBÍO                                         9\n",
       "REGIÓN DE ANTOFAGASTA                                     5\n",
       "REGIÓN DEL MAULE                                          3\n",
       "REGIÓN DEL LIBERTADOR GENERAL BERNARDO O'HIGGINS          1\n",
       "Name: count, dtype: int64"
      ]
     },
     "execution_count": 11,
     "metadata": {},
     "output_type": "execute_result"
    }
   ],
   "source": [
    "df_acuicultura[\"Region\"].value_counts()"
   ]
  },
  {
   "cell_type": "markdown",
   "id": "f46d4be3-72df-4cc3-b4e3-202646731611",
   "metadata": {},
   "source": [
    "En las columnas **Comuna** y **Región** se observa que la mayoría de las concesiones de acuicultura se encuentran localizadas en el sur y extremo sur chileno."
   ]
  },
  {
   "cell_type": "code",
   "execution_count": 12,
   "id": "93787722-4eca-4f8f-b21d-e33104decf2a",
   "metadata": {},
   "outputs": [
    {
     "data": {
      "text/plain": [
       "Titulares\n",
       "96633780-K: MOWI CHILE S.A.                  162\n",
       "79872420-7: EXPORTADORA LOS FIORDOS LTDA.    117\n",
       "79784980-4: CERMAQ CHILE S.A.                 85\n",
       "86247400-7: EMPRESAS AQUACHILE S.A.           81\n",
       "79891160-0: MULTI X S.A.                      74\n",
       "                                            ... \n",
       "6511717-7: SOARZO NECULMAN, ARODYS OMAR        1\n",
       "5723757-0: VILLANUEVA ARRIAGADA, GERMAN        1\n",
       "5826927-1: JARAMILLO POZAS, ALBERTO            1\n",
       "5424200-K: PAREDES PACHECO, JOSE EMILIO        1\n",
       "6680823-8: PUCHI ACUñA, VICTOR HUGO            1\n",
       "Name: count, Length: 1211, dtype: int64"
      ]
     },
     "execution_count": 12,
     "metadata": {},
     "output_type": "execute_result"
    }
   ],
   "source": [
    "df_acuicultura[\"Titulares\"].value_counts()"
   ]
  },
  {
   "cell_type": "markdown",
   "id": "0863ad97-9416-4b05-8ea0-d9341bbc3357",
   "metadata": {},
   "source": [
    "Se observa que las empresas Mowi Chile S.A., Exportadora Los Fiordos Ltda., Cermaq Chile S.A., Empresas Aquachile S.A. y Multi X S.A. concentran la mayor cantidad de concesiones de acuicultura."
   ]
  },
  {
   "cell_type": "code",
   "execution_count": 13,
   "id": "55f75905-df7a-428b-9b51-4f4d21883e42",
   "metadata": {},
   "outputs": [
    {
     "data": {
      "text/plain": [
       "NumeroResSSP\n",
       "1081    7\n",
       "1041    7\n",
       "474     7\n",
       "104     6\n",
       "900     6\n",
       "       ..\n",
       "2356    1\n",
       "1190    1\n",
       "2672    1\n",
       "1718    1\n",
       "2490    1\n",
       "Name: count, Length: 2138, dtype: int64"
      ]
     },
     "execution_count": 13,
     "metadata": {},
     "output_type": "execute_result"
    }
   ],
   "source": [
    "df_acuicultura[\"NumeroResSSP\"].value_counts()"
   ]
  },
  {
   "cell_type": "markdown",
   "id": "bc20206a-d361-4b4a-854f-edf7cb0b59a3",
   "metadata": {},
   "source": [
    "En la columna NumeroResSSP se observan códigos repetidos."
   ]
  },
  {
   "cell_type": "code",
   "execution_count": 14,
   "id": "96930f8d-b6a5-4040-a963-0d3b1a32e0fc",
   "metadata": {},
   "outputs": [
    {
     "data": {
      "text/plain": [
       "FechaResSSP\n",
       "1988-12-30    83\n",
       "2005-04-01    53\n",
       "2005-03-30    42\n",
       "1999-12-22    27\n",
       "2003-10-28    26\n",
       "              ..\n",
       "1986-09-25     1\n",
       "1987-01-26     1\n",
       "1987-06-11     1\n",
       "1984-04-16     1\n",
       "2023-05-08     1\n",
       "Name: count, Length: 1105, dtype: int64"
      ]
     },
     "execution_count": 14,
     "metadata": {},
     "output_type": "execute_result"
    }
   ],
   "source": [
    "df_acuicultura[\"FechaResSSP\"].value_counts()"
   ]
  },
  {
   "cell_type": "code",
   "execution_count": 15,
   "id": "39f00a27-a137-43cd-8e5e-9061235238aa",
   "metadata": {},
   "outputs": [
    {
     "data": {
      "text/plain": [
       "ResultadoResolucionSSP\n",
       "Aprueba    3233\n",
       "Name: count, dtype: int64"
      ]
     },
     "execution_count": 15,
     "metadata": {},
     "output_type": "execute_result"
    }
   ],
   "source": [
    "df_acuicultura[\"ResultadoResolucionSSP\"].value_counts()"
   ]
  },
  {
   "cell_type": "code",
   "execution_count": 16,
   "id": "2e459c22-e33c-4369-8baf-be76196e0f28",
   "metadata": {},
   "outputs": [
    {
     "data": {
      "text/plain": [
       "NumeroResSSFFAA\n",
       "542     8\n",
       "1121    8\n",
       "1204    7\n",
       "597     7\n",
       "1127    6\n",
       "       ..\n",
       "2723    1\n",
       "431     1\n",
       "398     1\n",
       "386     1\n",
       "2728    1\n",
       "Name: count, Length: 1862, dtype: int64"
      ]
     },
     "execution_count": 16,
     "metadata": {},
     "output_type": "execute_result"
    }
   ],
   "source": [
    "df_acuicultura[\"NumeroResSSFFAA\"].value_counts()"
   ]
  },
  {
   "cell_type": "code",
   "execution_count": 17,
   "id": "2a0f0a69-25e2-4b33-866d-106cc9187767",
   "metadata": {},
   "outputs": [
    {
     "data": {
      "text/plain": [
       "FechaResSSFFAA\n",
       "1999-09-30    61\n",
       "1999-11-02    45\n",
       "2003-03-17    33\n",
       "2000-02-29    30\n",
       "1999-12-30    30\n",
       "              ..\n",
       "2022-01-20     1\n",
       "1987-08-31     1\n",
       "1987-09-08     1\n",
       "1987-10-21     1\n",
       "2024-03-26     1\n",
       "Name: count, Length: 884, dtype: int64"
      ]
     },
     "execution_count": 17,
     "metadata": {},
     "output_type": "execute_result"
    }
   ],
   "source": [
    "df_acuicultura[\"FechaResSSFFAA\"].value_counts()"
   ]
  },
  {
   "cell_type": "code",
   "execution_count": 18,
   "id": "d62c8763-96c4-4824-9909-81c428d9b8dd",
   "metadata": {},
   "outputs": [
    {
     "data": {
      "text/plain": [
       "ResultadoResolucionSSFFAA\n",
       "Aprueba    3233\n",
       "Name: count, dtype: int64"
      ]
     },
     "execution_count": 18,
     "metadata": {},
     "output_type": "execute_result"
    }
   ],
   "source": [
    "df_acuicultura[\"ResultadoResolucionSSFFAA\"].value_counts()"
   ]
  },
  {
   "cell_type": "code",
   "execution_count": 19,
   "id": "d3bd7067-cd13-4de3-bd6e-a23bdf7535da",
   "metadata": {},
   "outputs": [
    {
     "data": {
      "text/plain": [
       "EspeciesPT\n",
       "SALMON CEREZA, SALMON DEL ATLANTICO, SALMON KETA, SALMON PLATEADO, SALMON REY, SALMON ROSADO, TRUCHA ARCOIRIS, TRUCHA CAFE, TRUCHA DE ARROYO, TRUCHA DE LA MONTAÑA                                                                                                                                                                                                                       1043\n",
       "CHOLGA, CHORITO, CHORO                                                                                                                                                                                                                                                                                                                                                                    728\n",
       "CAROLA, CHASCA, CHASCON O HUIRO NEGRO, CHICOREA DE MAR, COCHAYUYO, HUIRO CANUTILLO O FLOTADOR, LUCHE, LUGA CUCHARA O CORTA, LUGA NEGRA O CRESPA, LUGA-ROJA, PELILLO                                                                                                                                                                                                                       534\n",
       "CAROLA, CHASCA, CHASCON O HUIRO NEGRO, CHICOREA DE MAR, COCHAYUYO, HUIRO, HUIRO CANUTILLO O FLOTADOR, LUCHE, LUGA CUCHARA O CORTA, LUGA NEGRA O CRESPA, LUGA-ROJA, PELILLO, SALMON CEREZA, SALMON DEL ATLANTICO, SALMON KETA, SALMON PLATEADO, SALMON REY, SALMON ROSADO, TRUCHA ARCOIRIS, TRUCHA CAFE, TRUCHA DE ARROYO, TRUCHA DE LA MONTAÑA                                            151\n",
       "CHOLGA, CHORITO, CHORO, OSTRA CHILENA, OSTRA DEL PACIFICO O JAPONESA                                                                                                                                                                                                                                                                                                                      146\n",
       "                                                                                                                                                                                                                                                                                                                                                                                         ... \n",
       "CHOLGA, CHORITO, CHORO, OSTION DE CHILOE, OSTION DEL NORTE, OSTION DEL SUR, OSTION PATAGONICO, OSTRA CHILENA, OSTRA DEL PACIFICO O JAPONESA, SALMON CEREZA, SALMON DEL ATLANTICO, SALMON KETA, SALMON PLATEADO, SALMON REY, SALMON ROSADO, TRUCHA ARCOIRIS, TRUCHA CAFE, TRUCHA DE ARROYO, TRUCHA DE LA MONTAÑA                                                                             1\n",
       "ABALON JAPONES, ABALON ROJO, OSTION DE CHILOE, OSTION DEL NORTE, OSTION DEL SUR, OSTION PATAGONICO, SALMON CEREZA, SALMON DEL ATLANTICO, SALMON KETA, SALMON PLATEADO, SALMON REY, SALMON ROSADO, TRUCHA ARCOIRIS, TRUCHA CAFE, TRUCHA DE ARROYO, TRUCHA DE LA MONTAÑA                                                                                                                      1\n",
       "HUIRO, HUIRO PALO, OSTION DEL NORTE, OSTION DEL SUR                                                                                                                                                                                                                                                                                                                                         1\n",
       "ABALON JAPONES, ABALON ROJO, CHOLGA, CHORITO, CHORO, OSTION DEL NORTE, OSTION DEL SUR, OSTRA CHILENA, OSTRA DEL PACIFICO O JAPONESA, SALMON CEREZA, SALMON DEL ATLANTICO, SALMON KETA, SALMON PLATEADO, SALMON REY, SALMON ROSADO, TRUCHA ARCOIRIS, TRUCHA CAFE, TRUCHA DE ARROYO, TRUCHA DE LA MONTAÑA                                                                                     1\n",
       "CAROLA, CHASCA, CHASCON O HUIRO NEGRO, CHICOREA DE MAR, COCHAYUYO, HUIRO CANUTILLO O FLOTADOR, LUCHE, LUGA CUCHARA O CORTA, LUGA NEGRA O CRESPA, LUGA-ROJA, OSTRA CHILENA, OSTRA DEL PACIFICO O JAPONESA, PELILLO, SALMON CEREZA, SALMON DEL ATLANTICO, SALMON KETA, SALMON PLATEADO, SALMON REY, SALMON ROSADO, TRUCHA ARCOIRIS, TRUCHA CAFE, TRUCHA DE ARROYO, TRUCHA DE LA MONTAÑA       1\n",
       "Name: count, Length: 64, dtype: int64"
      ]
     },
     "execution_count": 19,
     "metadata": {},
     "output_type": "execute_result"
    }
   ],
   "source": [
    "df_acuicultura[\"EspeciesPT\"].value_counts()"
   ]
  },
  {
   "cell_type": "markdown",
   "id": "dbbf6e0a-0b1b-4dc3-a7ca-bcd78d9358ad",
   "metadata": {},
   "source": [
    "Se observa que el conjunto de especies más frecuentemente cultivado en concesiones de acuicultura son salmón cereza, salmón del atlántico, salmón keta, salmón plateado, salmón rey, salmón rosado, trucha arcoiris, trucha café, trucha de arroyo y trucha de la montaña. \n",
    "\n",
    "En segundo lugar se encuentra la combinación cholga, chorito y choro."
   ]
  },
  {
   "cell_type": "code",
   "execution_count": 20,
   "id": "25eba252-c17a-476a-82ef-85d10756235c",
   "metadata": {},
   "outputs": [
    {
     "data": {
      "text/plain": [
       "GrupoPT\n",
       "SALMONIDOS                                                1049\n",
       "MITILIDOS                                                  731\n",
       "MACROALGAS                                                 542\n",
       "MACROALGAS, SALMONIDOS                                     296\n",
       "MITILIDOS, OSTREIDOS, PECTINIDOS                           166\n",
       "MITILIDOS, OSTREIDOS                                       146\n",
       "PECTINIDOS                                                  46\n",
       "ABALONES, MITILIDOS, OSTREIDOS, PECTINIDOS                  39\n",
       "ABALONES, MITILIDOS                                         25\n",
       "MACROALGAS, MITILIDOS, OSTREIDOS                            23\n",
       "MACROALGAS, MITILIDOS, OSTREIDOS, PECTINIDOS                19\n",
       "OSTREIDOS                                                   18\n",
       "MITILIDOS, PECTINIDOS                                       15\n",
       "OSTREIDOS, PECTINIDOS                                       15\n",
       "MACROALGAS, MITILIDOS                                       12\n",
       "MITILIDOS, SALMONIDOS                                       12\n",
       "ABALONES                                                    12\n",
       "MACROALGAS, MITILIDOS, SALMONIDOS                            9\n",
       "ABALONES, MITILIDOS, OSTREIDOS                               7\n",
       "MACROALGAS, OSTREIDOS                                        7\n",
       "MACROALGAS, PECTINIDOS                                       6\n",
       "PECTINIDOS, SALMONIDOS                                       5\n",
       "MACROALGAS, OSTREIDOS, PECTINIDOS                            5\n",
       "MITILIDOS, OSTREIDOS, PECTINIDOS, SALMONIDOS                 3\n",
       "ABALONES, SALMONIDOS                                         3\n",
       "ABALONES, MACROALGAS, MITILIDOS, OSTREIDOS, PECTINIDOS       2\n",
       "ABALONES, PECTINIDOS                                         2\n",
       "ABALONES, PECTINIDOS, SALMONIDOS                             2\n",
       "OSTREIDOS, PECTINIDOS, SALMONIDOS                            1\n",
       "ABALONES, MACROALGAS, SALMONIDOS                             1\n",
       "TUNIDOS                                                      1\n",
       "MACROALGAS, PECTINIDOS, SALMONIDOS                           1\n",
       "ABALONES, MACROALGAS, MITILIDOS                              1\n",
       "ABALONES, MITILIDOS, OSTREIDOS, PECTINIDOS, SALMONIDOS       1\n",
       "MACROALGAS, OSTREIDOS, SALMONIDOS                            1\n",
       "Name: count, dtype: int64"
      ]
     },
     "execution_count": 20,
     "metadata": {},
     "output_type": "execute_result"
    }
   ],
   "source": [
    "df_acuicultura[\"GrupoPT\"].value_counts()"
   ]
  },
  {
   "cell_type": "markdown",
   "id": "912cf428-164f-4814-8cb0-ca335ed911b6",
   "metadata": {},
   "source": [
    "El grupo más frecuente es el de los salmónidos, seguido por los mitílidos y las macroalgas."
   ]
  },
  {
   "cell_type": "code",
   "execution_count": 21,
   "id": "07baee8f-8a58-4fca-bd94-8cb54709a5f6",
   "metadata": {},
   "outputs": [
    {
     "data": {
      "text/plain": [
       "GRUPO ESPECIE AGRUPADO\n",
       "PECES       1390\n",
       "MOLUSCOS    1215\n",
       "ALGAS        627\n",
       "OTROS          1\n",
       "Name: count, dtype: int64"
      ]
     },
     "execution_count": 21,
     "metadata": {},
     "output_type": "execute_result"
    }
   ],
   "source": [
    "df_acuicultura[\"GRUPO ESPECIE AGRUPADO\"].value_counts()"
   ]
  },
  {
   "cell_type": "markdown",
   "id": "8be05863-f73d-4442-871d-bd7bea7cf13a",
   "metadata": {},
   "source": [
    "En el caso de los grupos de especies agrupados, peces es el más frecuente."
   ]
  },
  {
   "cell_type": "code",
   "execution_count": 22,
   "id": "c4df5ea8-a925-45d3-8e0d-9622e9ab4492",
   "metadata": {},
   "outputs": [
    {
     "data": {
      "text/plain": [
       "toponimio\n",
       "(1): ESTERO HUITO                                              24\n",
       "(1): RÍO IMPERIAL, AL NOROESTE DE SECTOR SAN PABLO             21\n",
       "(1): RÍO IMPERIAL, AL SUROESTE DE NEHUENTUÉ                    20\n",
       "(1): BAHÍA TONGOY                                              19\n",
       "(1): QUETALCO                                                  18\n",
       "                                                               ..\n",
       "(1): CANAL DALCAHUE, SECTOR BANCO DEL PASAJE, ISLA QUINCHAO     1\n",
       "(1): PUERTO QUEMCHI                                             1\n",
       "(1): LAGO PUYEHUE, AL NORTE DE DESEMBOCADURA DE RÍO GOL GOL     1\n",
       "(1): RÍO CARIQUILDA, SECTOR LOS HELECHOS                        1\n",
       "(1): ESTERO CASTRO, SECTOR PUNTA ANIMO                          1\n",
       "Name: count, Length: 2502, dtype: int64"
      ]
     },
     "execution_count": 22,
     "metadata": {},
     "output_type": "execute_result"
    }
   ],
   "source": [
    "df_acuicultura[\"toponimio\"].value_counts()"
   ]
  },
  {
   "cell_type": "markdown",
   "id": "6cc1efbb-6ef8-4eef-8699-537b692867b0",
   "metadata": {},
   "source": [
    "Respecto a los lugares en los cuales se ubican las concesiones acuícolas, los más comunes son el estero Huito, el río Imperial al noroeste de Sector San Pablo y al suroeste de Nehuenté, la bahía Tongoy y  Quetalco."
   ]
  },
  {
   "cell_type": "code",
   "execution_count": 23,
   "id": "be1376a6-7591-48b7-adaa-69cb40808091",
   "metadata": {},
   "outputs": [
    {
     "data": {
      "text/plain": [
       "tipoBarrio\n",
       "ACS    1347\n",
       "Name: count, dtype: int64"
      ]
     },
     "execution_count": 23,
     "metadata": {},
     "output_type": "execute_result"
    }
   ],
   "source": [
    "df_acuicultura[\"tipoBarrio\"].value_counts()"
   ]
  },
  {
   "cell_type": "markdown",
   "id": "8e6b6147-061a-41d6-8202-1c5f236d3ec4",
   "metadata": {},
   "source": [
    "El único valor observado en esta columna es ACS."
   ]
  },
  {
   "cell_type": "code",
   "execution_count": 24,
   "id": "ba515443-3fcd-4dee-96a2-07e78f2eabeb",
   "metadata": {},
   "outputs": [
    {
     "data": {
      "text/plain": [
       "barrio\n",
       "18C    60\n",
       "2      52\n",
       "32     45\n",
       "21B    43\n",
       "10A    42\n",
       "       ..\n",
       "12C     3\n",
       "35      3\n",
       "4A      2\n",
       "58      1\n",
       "4B      1\n",
       "Name: count, Length: 83, dtype: int64"
      ]
     },
     "execution_count": 24,
     "metadata": {},
     "output_type": "execute_result"
    }
   ],
   "source": [
    "df_acuicultura[\"barrio\"].value_counts()"
   ]
  },
  {
   "cell_type": "markdown",
   "id": "cc089977-37db-4d22-9d51-ffe58030e4b1",
   "metadata": {},
   "source": [
    "Los barrios que aparecen con mayor frecuencia son 18C (ubicado en región de Aysén), 2 (región de los Lagos), 32 (región de Aysén), 21B (región de Aysén) y 10A (región de los Lagos)."
   ]
  },
  {
   "cell_type": "code",
   "execution_count": 25,
   "id": "fe573b19-1f1a-4dec-aa74-6cc01fdb1d12",
   "metadata": {},
   "outputs": [
    {
     "data": {
      "text/plain": [
       "TipoPorcion\n",
       "(1): AGUA Y FONDO                                                                                            3140\n",
       "(1): PLAYA                                                                                                     56\n",
       "(1): AGUA Y FONDO, (2): TERRENO DE PLAYA                                                                        9\n",
       "(1): AGUA Y FONDO, (2): PLAYA                                                                                   5\n",
       "(1): TERRENO DE PLAYA                                                                                           4\n",
       "(1): AGUA Y FONDO, (2): AGUA Y FONDO                                                                            4\n",
       "(1): TERRENO DE PLAYA, (2): PLAYA                                                                               2\n",
       "(1): AGUA Y FONDO, (2): AGUA Y FONDO, (3): AGUA Y FONDO                                                         2\n",
       "(1): PLAYA , (2): PLAYA , (3): AGUA Y FONDO                                                                     1\n",
       "(1): TERRENO DE PLAYA, (2): AGUA Y FONDO                                                                        1\n",
       "(1): PLAYA , (2): TERRENO DE PLAYA, (3): AGUA Y FONDO                                                           1\n",
       "(1): AGUA Y FONDO, (2): PLAYA , (3): TERRENO DE PLAYA                                                           1\n",
       "(1): AGUA Y FONDO, (2): TERRENO DE PLAYA, (3): PLAYA , (4): PLAYA , (5): PLAYA , (6): PLAYA , (7): PLAYA        1\n",
       "(1): PLAYA , (2): TERRENO DE PLAYA                                                                              1\n",
       "Name: count, dtype: int64"
      ]
     },
     "execution_count": 25,
     "metadata": {},
     "output_type": "execute_result"
    }
   ],
   "source": [
    "df_acuicultura[\"TipoPorcion\"].value_counts()"
   ]
  },
  {
   "cell_type": "code",
   "execution_count": 26,
   "id": "953f7193-0a73-48a9-90ec-7bff961d3f1e",
   "metadata": {},
   "outputs": [
    {
     "data": {
      "text/plain": [
       "superficieTotal\n",
       "0.30     294\n",
       "6.00     188\n",
       "2.00     105\n",
       "3.00     102\n",
       "10.00    100\n",
       "        ... \n",
       "44.72      1\n",
       "37.25      1\n",
       "32.77      1\n",
       "3.19       1\n",
       "27.79      1\n",
       "Name: count, Length: 1152, dtype: int64"
      ]
     },
     "execution_count": 26,
     "metadata": {},
     "output_type": "execute_result"
    }
   ],
   "source": [
    "df_acuicultura[\"superficieTotal\"].value_counts()"
   ]
  },
  {
   "cell_type": "markdown",
   "id": "5a8928ed-878d-4621-8ad1-19794333670f",
   "metadata": {},
   "source": [
    "Para poder detectar la presencia de outliers en la columna **superficieTotal** es necesario transformar sus datos del tipo string al tipo float."
   ]
  },
  {
   "cell_type": "code",
   "execution_count": 27,
   "id": "a20e0acf-358a-4cf7-8f38-dbdf4f554d5a",
   "metadata": {},
   "outputs": [],
   "source": [
    "df_acuicultura[\"superficieTotal\"] = pd.to_numeric(df_acuicultura[\"superficieTotal\"], errors='coerce')"
   ]
  },
  {
   "cell_type": "code",
   "execution_count": 28,
   "id": "b83ef42f-9086-4424-a56f-b0c54ebac259",
   "metadata": {},
   "outputs": [
    {
     "data": {
      "text/plain": [
       "count    3231.000000\n",
       "mean        9.720910\n",
       "std        17.282162\n",
       "min         0.000000\n",
       "25%         2.120000\n",
       "50%         5.580000\n",
       "75%        10.365000\n",
       "max       524.470000\n",
       "Name: superficieTotal, dtype: float64"
      ]
     },
     "execution_count": 28,
     "metadata": {},
     "output_type": "execute_result"
    }
   ],
   "source": [
    "df_acuicultura[\"superficieTotal\"].describe()"
   ]
  },
  {
   "cell_type": "code",
   "execution_count": 31,
   "id": "568c0d6c-fe2a-400f-83ff-b91739152eb5",
   "metadata": {},
   "outputs": [
    {
     "data": {
      "image/png": "[encoded data removed]",
      "text/plain": [
       "<Figure size 640x480 with 1 Axes>"
      ]
     },
     "metadata": {},
     "output_type": "display_data"
    }
   ],
   "source": [
    "boxplot_superficie = df_acuicultura.boxplot(column=['superficieTotal'])  "
   ]
  },
  {
   "cell_type": "code",
   "execution_count": null,
   "id": "fa4551f0-4629-423e-9eeb-78c82769e10d",
   "metadata": {},
   "outputs": [],
   "source": []
  }
 ],
 "metadata": {
  "kernelspec": {
   "display_name": "proyecto_final (Python 3.12)",
   "language": "python",
   "name": "proyecto_final"
  },
  "language_info": {
   "codemirror_mode": {
    "name": "ipython",
    "version": 3
   },
   "file_extension": ".py",
   "mimetype": "text/x-python",
   "name": "python",
   "nbconvert_exporter": "python",
   "pygments_lexer": "ipython3",
   "version": "3.12.4"
  }
 },
 "nbformat": 4,
 "nbformat_minor": 5
}
