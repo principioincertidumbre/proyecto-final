{
 "cells": [
  {
   "cell_type": "markdown",
   "id": "260d17a0-016c-4b74-8225-0416c7366a6d",
   "metadata": {},
   "source": [
    "# Aplicación práctica del dataset de concesiones de acuicultura\n"
   ]
  },
  {
   "cell_type": "markdown",
   "id": "0d79b5d1-122c-4bbd-8d44-19840664a9b8",
   "metadata": {},
   "source": [
    "Este dataset fue creado por la Subsecretaría de Pesca y Acuicultura chilena, por lo tanto, ya se aplica a un contexto real debido a que ha sido utilizado para elaborar\n",
    "informes gubernamentales sobre el cultivo de especies hidrobiológicas en Chile.\n",
    "\n",
    "El **Informe Sectorial de Pesca y Acuicultura** elaborado por el **Departamento de Análisis Sectorial**, correspondiente a junio de 2024, informa lo siguiente:\n",
    "\n",
    "\"Las **cosechas acumuladas** a junio de 2024 fueron de **699,4 mil t**. Los **peces** aportaron con el **59,9% (418.694 toneladas)** del total de la acuicultura; mientras que los aportes de los **moluscos** y **algas** fueron de **39,2% (274.482 toneladas)** y **0,9% (6.190 toneladas)**, respectivamente.\"\n",
    "\n",
    "\"Los principales recursos cosechados correspondieron a **salmón del atlántico, chorito, y salmón del pacífico**, aportando el **45,5%, 38,8% y 8,6%**, respectivamente, los que suman el **92,9%** del total cosechado. Las principales regiones donde se registran cosechas correspondieron a las **Regiones de Los Lagos** y de **Aysén del General Carlos Ibáñez del Campo, con **469,6 mil t (67,2%)** y **176,4 mil t (25,2%)**, respectivamente, las que suman el **92,4%** del país. La **Región de Magallanes** aportó con el **6,9%** y el resto del país sólo el **0,7%**.\"\n",
    "\n",
    "Respecto a los **peces**, los datos son:\n",
    "\n",
    "**Salmón del Atlántico**, cuya cosecha acumulada a junio de 2024 fue igual a **318,3 mil t (45,5% del total acuicultura)**, y fue cosechado principalmente en las **Regiones de Aysén (141,6 mil t)** y **Los Lagos (128,5 mil t)**.\n",
    "\n",
    "**Salmón del Pacífico**, cuya cosecha acumulada a junio de 2024 fue igual a **60,1 mil t (8,6% del total acuicultura)**, y fue cosechado principalmente en la **Región de los Lagos (37,9 mil t)** y **Aysén (22,1 mil t)**.\n",
    "\n",
    "**Trucha Arcoíris**, cuya cosecha acumulada a junio de 2024 fue igual a **40,3 mil t**, y fue cosechada principalmente en las **Regiones de los Lagos (26,5 mil t)** y **Aysén (12,7 mil t)**.\n",
    "\n",
    "Respecto a los **moluscos**, los datos son:\n",
    "\n",
    "**Chorito**, cuya cosecha acumulada a junio de 2024 fue igual a **271,3 mil t (38,8% del total acuicultura y 98,8% del cultivo de moluscos)**, y el **100%** fue cosechado en la **Región de los Lagos**.\n",
    "\n",
    "**Ostión del Norte**, cuya cosecha acumulada a junio de 2024 fue igual a **2.381 t (0,3% del total acuicultura y 0,87% del cultivo de moluscos)**, y fue cosechado principalmente en las **Regiones de Coquimbo (2.290 t)** y de **Atacama (82 t)**.\n",
    "\n",
    "Respecto a las **algas**, los datos son:\n",
    "\n",
    "**Pelillo** representó el **89,9%** de la producción de algas, y fue cosechado principalmente en la **Región de Los Lagos (4.706 t)** y la **Región de Coquimbo (747 t)**.\n",
    "\n",
    "Estos datos complementan la información del dataset de concesiones de acuicultura, pudiendo dimensionar de mejor manera el impacto de esta industria en la economía chilena.\n",
    "\n",
    "Los datos del dataset analizado permiten en la práctica evaluar la distribución de las concesiones a nivel nacional, monitoreando si existe una comuna sobreexplotada y contaminada por la gran cantidad de concesiones de acuicultura presentes y la densidad de cultivos que puede contribuir a presencia de enfermedades. Aunque estos datos no se refieren a la contaminación, se podrían combinar con datasets que contengan dicha información.\n",
    "\n",
    "También estos datos permitirían verificar si existe monopolio en las concesiones acuícolas, influyendo en la futura aprobación de nuevas concesiones de acuicultura. Para los acuicultores locales o extranjeros es relevante contar con esta información para saber en qué lugar invertir, y que especies sería posible cultivar. \n",
    "\n",
    "La acuicultura significa creación de empleo, instalación de cadenas productivas y logística, transferencia tecnológica de otros países, mayores ingresos para el país, seguridad alimentaria. Además, asegura la obtención de fuentes de proteína de alta calidad (por ejemplo los peces contienen omega 3, vitaminas, y minerales, mientras que las algas contienen yodo y vitaminas) para la población chilena y del resto del mundo.\n",
    "\n",
    "Para concluir, no es necesario especificar cómo se ejecutaría esta propuesta en un contexto real, debido a que hace muchos años ya se está aplicando en Chile.\n",
    "\n"
   ]
  },
  {
   "cell_type": "markdown",
   "id": "7968a4e5-0f67-4b14-a48a-49afcb12097c",
   "metadata": {},
   "source": [
    "**Fuente**: Departamento de Análisis Sectorial (2024). Informe Sectorial de Pesca y Acuicultura. Recuperado de: https://www.subpesca.cl/portal/618/articles-122370_documento.pdf"
   ]
  },
  {
   "cell_type": "code",
   "execution_count": null,
   "id": "0aab478a-9956-4d3d-9ab0-bf26f83c2b32",
   "metadata": {},
   "outputs": [],
   "source": []
  }
 ],
 "metadata": {
  "kernelspec": {
   "display_name": "proyecto_final (Python 3.12)",
   "language": "python",
   "name": "proyecto_final"
  },
  "language_info": {
   "codemirror_mode": {
    "name": "ipython",
    "version": 3
   },
   "file_extension": ".py",
   "mimetype": "text/x-python",
   "name": "python",
   "nbconvert_exporter": "python",
   "pygments_lexer": "ipython3",
   "version": "3.12.4"
  }
 },
 "nbformat": 4,
 "nbformat_minor": 5
}
